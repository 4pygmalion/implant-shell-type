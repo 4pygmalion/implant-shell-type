{
 "cells": [
  {
   "cell_type": "code",
   "execution_count": 1,
   "metadata": {},
   "outputs": [
    {
     "name": "stderr",
     "output_type": "stream",
     "text": [
      "2024/03/01 00:39:22 WARNING mlflow.pytorch: Stored model version '2.2.0+cu121' does not match installed PyTorch version '2.0.1+cu117'\n"
     ]
    }
   ],
   "source": [
    "import os\n",
    "import sys\n",
    "import pickle\n",
    "import glob\n",
    "\n",
    "import mlflow\n",
    "import torch\n",
    "import numpy as np\n",
    "from torchvision.transforms import Compose, Resize, PILToTensor, ConvertImageDtype\n",
    "\n",
    "ST_DIR = os.getcwd()\n",
    "EXP_DIR = os.path.dirname(ST_DIR)\n",
    "ROOT_DIR = os.path.dirname(EXP_DIR)\n",
    "DATA_DIR = os.path.join(ROOT_DIR, 'data')\n",
    "sys.path.append(ROOT_DIR)\n",
    "\n",
    "from core.trainer import BinaryClassifierTrainer\n",
    "from experiments.st.data_model import STImages\n",
    "from experiments.st._paths import DataPaths\n",
    "from experiments.st.datasets import STDataSet\n",
    "\n",
    "def entropy(array):\n",
    "    return -1 * (array * np.log2(array)  + (1-array) *np.log2(1-array))\n",
    "\n",
    "\n",
    "DEVICE = \"cuda\" if torch.cuda.is_available() else \"cpu\"\n",
    "# model = torch.load(os.path.join(ROOT_DIR, \"data\", \"model.pth\"), map_location=torch.device(DEVICE))\n",
    "model = mlflow.pytorch.load_model(\"file:///home/oem/repositories/mlflow_artifact/3/cabcd6e6865148f59464bfb408f53b24/artifacts/model\")"
   ]
  },
  {
   "cell_type": "markdown",
   "metadata": {},
   "source": [
    "Entropy: test dataset"
   ]
  },
  {
   "cell_type": "code",
   "execution_count": 2,
   "metadata": {},
   "outputs": [],
   "source": [
    "path = mlflow.artifacts.download_artifacts(\n",
    "    \"file:///home/oem/repositories/mlflow_artifact/3/cabcd6e6865148f59464bfb408f53b24/artifacts/test_metrics_meter.pkl\"\n",
    ")\n",
    "with open(path, 'rb') as fh:\n",
    "    meters = pickle.load(fh)\n",
    "\n",
    "test_entropy = entropy(np.array(meters.probs))"
   ]
  },
  {
   "cell_type": "markdown",
   "metadata": {},
   "source": [
    "Entropy: GE"
   ]
  },
  {
   "cell_type": "code",
   "execution_count": 3,
   "metadata": {},
   "outputs": [
    {
     "name": "stderr",
     "output_type": "stream",
     "text": [
      " |################################| test | EPOCH 1: [122/123] | eta:1 | total_loss: 0.10538 | accuracy: 0.95861 | auroc: 0.98029 | prauc: 0.6528 "
     ]
    },
    {
     "name": "stdout",
     "output_type": "stream",
     "text": [
      "0.06603495279422453\n"
     ]
    },
    {
     "name": "stderr",
     "output_type": "stream",
     "text": [
      "\n",
      "\u001b[?25h"
     ]
    }
   ],
   "source": [
    "trainer = BinaryClassifierTrainer(model, loss=torch.nn.functional.binary_cross_entropy_with_logits)\n",
    "data_paths = DataPaths(os.path.join(ROOT_DIR, \"data\"))\n",
    "ge_st_images = STImages(\n",
    "    s_image_paths=glob.glob(str(data_paths.ge.s / \"*\")),\n",
    "    t_image_paths=glob.glob(str(data_paths.ge.t / \"*\")),\n",
    ")\n",
    "transform = Compose(\n",
    "    [PILToTensor(), Resize((512, 512), antialias=True), ConvertImageDtype(torch.float)]\n",
    ")\n",
    "data_loader = torch.utils.data.DataLoader(\n",
    "    STDataSet(\n",
    "        ge_st_images.image_paths,\n",
    "        ge_st_images.labels,\n",
    "        transform,\n",
    "        device=DEVICE,\n",
    "    ),\n",
    "    batch_size=16,\n",
    "    shuffle=False,\n",
    ")\n",
    "ge_loss_meter, ge_metrics_meter = trainer.run_epoch(\"test\", 1, data_loader)\n",
    "ge_entropy = entropy(np.array(ge_metrics_meter.probs))\n",
    "print(ge_entropy.mean())"
   ]
  },
  {
   "cell_type": "markdown",
   "metadata": {},
   "source": [
    "Entropy: Ruptured"
   ]
  },
  {
   "cell_type": "code",
   "execution_count": 4,
   "metadata": {},
   "outputs": [
    {
     "name": "stderr",
     "output_type": "stream",
     "text": [
      " |################################| test | EPOCH 1: [130/131] | eta:1 | total_loss: 0.39545 | accuracy: 0.89313 | auroc: 0.99538 | prauc: 0.99864"
     ]
    },
    {
     "name": "stdout",
     "output_type": "stream",
     "text": [
      "MetricsMeter(N=(131)), ACC(0.8931297709923665), AUROC(0.9953795379537954), PRAUC(0.9986416944422599)\n",
      "0.3710931686951735\n"
     ]
    },
    {
     "name": "stderr",
     "output_type": "stream",
     "text": [
      "\n",
      "\u001b[?25h"
     ]
    }
   ],
   "source": [
    "rupture_st_images = STImages(\n",
    "    s_image_paths=glob.glob(str(data_paths.canon_rupture.s / \"*\")),\n",
    "    t_image_paths=glob.glob(str(data_paths.canon_rupture.t / \"*\")),\n",
    ")\n",
    "\n",
    "rupture_data_loader = torch.utils.data.DataLoader(\n",
    "    STDataSet(\n",
    "        rupture_st_images.image_paths,\n",
    "        rupture_st_images.labels,\n",
    "        transform,\n",
    "        device=DEVICE,\n",
    "    ),\n",
    "    batch_size=1,\n",
    "    shuffle=False,\n",
    ")\n",
    "canon_rupture_loss_meter, canon_rupture_metrics_meter = trainer.run_epoch(\"test\", 1, rupture_data_loader)\n",
    "canon_rupture_entropy = entropy(np.array(canon_rupture_metrics_meter.probs))\n",
    "print(canon_rupture_metrics_meter)\n",
    "print(canon_rupture_entropy.mean())"
   ]
  },
  {
   "cell_type": "markdown",
   "metadata": {},
   "source": [
    "Entropy: without implant"
   ]
  },
  {
   "cell_type": "code",
   "execution_count": 5,
   "metadata": {},
   "outputs": [
    {
     "name": "stderr",
     "output_type": "stream",
     "text": [
      " |################################| test | EPOCH 1: [21/22] | eta:1 | total_loss: 1.17228 | accuracy: 0.22781 | auroc: nan | prauc: nan\n",
      "\u001b[?25h"
     ]
    }
   ],
   "source": [
    "image_paths = glob.glob(os.path.join(data_paths.data_root_dir, \"st_paper_data/no_implants/*.jpg\"))\n",
    "labels = [0 for _ in range(len(image_paths))]\n",
    "no_implantset = STDataSet(\n",
    "    image_paths, labels, transform, \"cuda\"\n",
    ")\n",
    "data_loader = torch.utils.data.DataLoader(\n",
    "    no_implantset,\n",
    "    batch_size=16,\n",
    "    shuffle=False,\n",
    ")\n",
    "test_loss_meter, no_implant_metrics_meter = trainer.run_epoch(\"test\", 1, data_loader)"
   ]
  },
  {
   "cell_type": "code",
   "execution_count": 12,
   "metadata": {},
   "outputs": [
    {
     "data": {
      "text/plain": [
       "<Axes: xlabel='entropy', ylabel='Density'>"
      ]
     },
     "execution_count": 12,
     "metadata": {},
     "output_type": "execute_result"
    },
    {
     "data": {
      "image/png": "[encoded data removed]",
      "text/plain": [
       "<Figure size 1000x500 with 2 Axes>"
      ]
     },
     "metadata": {},
     "output_type": "display_data"
    }
   ],
   "source": [
    "import seaborn as sns\n",
    "import pandas as pd\n",
    "from matplotlib import pyplot as plt\n",
    "\n",
    "test_entropy_df = pd.DataFrame(test_entropy, columns=[\"entropy\"])\n",
    "test_entropy_df[\"dataset\"] = \"Test(in-house)\"\n",
    "ge_entropy_df = pd.DataFrame(ge_entropy,columns=[\"entropy\"])\n",
    "ge_entropy_df[\"dataset\"] = \"GE\"\n",
    "rupture_entropy_df = pd.DataFrame(canon_rupture_entropy, columns=[\"entropy\"])\n",
    "rupture_entropy_df[\"dataset\"] = \"Ruptured\"\n",
    "normal_entropy = entropy(np.array(no_implant_metrics_meter.probs))\n",
    "normal_entropy_df = pd.DataFrame(normal_entropy, columns=[\"entropy\"])\n",
    "normal_entropy_df[\"dataset\"] = \"Normal\"\n",
    "\n",
    "df = pd.concat(\n",
    "    [\n",
    "        test_entropy_df, \n",
    "        ge_entropy_df,\n",
    "        rupture_entropy_df, \n",
    "        normal_entropy_df\n",
    "    ]\n",
    ").reset_index(drop=True)\n",
    "df.to_csv(\"entropy.csv\", index=False)\n",
    "\n",
    "fig, axes = plt.subplots(1, 2, figsize=(10, 5))\n",
    "sns.kdeplot(df.loc[df[\"dataset\"].isin({\"Test(in-house)\", \"GE\"})], x=\"entropy\", hue=\"dataset\", fill=True, alpha=0.3, multiple=\"layer\", ax=axes[0])\n",
    "sns.kdeplot(df.loc[df[\"dataset\"].isin({\"Ruptured\", \"Normal\"})], x=\"entropy\", hue=\"dataset\", fill=True, alpha=0.3, multiple=\"layer\", ax=axes[1])"
   ]
  },
  {
   "cell_type": "code",
   "execution_count": 12,
   "metadata": {},
   "outputs": [
    {
     "data": {
      "text/html": [
       "<div>\n",
       "<style scoped>\n",
       "    .dataframe tbody tr th:only-of-type {\n",
       "        vertical-align: middle;\n",
       "    }\n",
       "\n",
       "    .dataframe tbody tr th {\n",
       "        vertical-align: top;\n",
       "    }\n",
       "\n",
       "    .dataframe thead tr th {\n",
       "        text-align: left;\n",
       "    }\n",
       "</style>\n",
       "<table border=\"1\" class=\"dataframe\">\n",
       "  <thead>\n",
       "    <tr>\n",
       "      <th></th>\n",
       "      <th></th>\n",
       "      <th colspan=\"3\" halign=\"left\">Grouped by dataset</th>\n",
       "    </tr>\n",
       "    <tr>\n",
       "      <th></th>\n",
       "      <th></th>\n",
       "      <th>GE</th>\n",
       "      <th>Test(in-house)</th>\n",
       "      <th>P-Value</th>\n",
       "    </tr>\n",
       "  </thead>\n",
       "  <tbody>\n",
       "    <tr>\n",
       "      <th>n</th>\n",
       "      <th></th>\n",
       "      <td>1957</td>\n",
       "      <td>3480</td>\n",
       "      <td></td>\n",
       "    </tr>\n",
       "    <tr>\n",
       "      <th>entropy, mean (SD)</th>\n",
       "      <th></th>\n",
       "      <td>0.066 (0.216)</td>\n",
       "      <td>0.072 (0.201)</td>\n",
       "      <td>0.350</td>\n",
       "    </tr>\n",
       "  </tbody>\n",
       "</table>\n",
       "</div><br />"
      ],
      "text/plain": [
       "                    Grouped by dataset                       \n",
       "                                    GE Test(in-house) P-Value\n",
       "n                                 1957           3480        \n",
       "entropy, mean (SD)       0.066 (0.216)  0.072 (0.201)   0.350"
      ]
     },
     "execution_count": 12,
     "metadata": {},
     "output_type": "execute_result"
    }
   ],
   "source": [
    "# statistis\n",
    "import pandas as pd\n",
    "from tableone import TableOne\n",
    "entropy = pd.read_csv(\"entropy.csv\")\n",
    "TableOne(entropy.loc[entropy[\"dataset\"].isin({\"Test(in-house)\", \"GE\"})], missing=False, pval=True, groupby=\"dataset\", overall=False, decimals=3)"
   ]
  },
  {
   "cell_type": "code",
   "execution_count": 13,
   "metadata": {},
   "outputs": [
    {
     "data": {
      "text/html": [
       "<div>\n",
       "<style scoped>\n",
       "    .dataframe tbody tr th:only-of-type {\n",
       "        vertical-align: middle;\n",
       "    }\n",
       "\n",
       "    .dataframe tbody tr th {\n",
       "        vertical-align: top;\n",
       "    }\n",
       "\n",
       "    .dataframe thead tr th {\n",
       "        text-align: left;\n",
       "    }\n",
       "</style>\n",
       "<table border=\"1\" class=\"dataframe\">\n",
       "  <thead>\n",
       "    <tr>\n",
       "      <th></th>\n",
       "      <th></th>\n",
       "      <th colspan=\"3\" halign=\"left\">Grouped by dataset</th>\n",
       "    </tr>\n",
       "    <tr>\n",
       "      <th></th>\n",
       "      <th></th>\n",
       "      <th>Ruptured</th>\n",
       "      <th>Test(in-house)</th>\n",
       "      <th>P-Value</th>\n",
       "    </tr>\n",
       "  </thead>\n",
       "  <tbody>\n",
       "    <tr>\n",
       "      <th>n</th>\n",
       "      <th></th>\n",
       "      <td>131</td>\n",
       "      <td>3480</td>\n",
       "      <td></td>\n",
       "    </tr>\n",
       "    <tr>\n",
       "      <th>entropy, mean (SD)</th>\n",
       "      <th></th>\n",
       "      <td>0.371 (0.318)</td>\n",
       "      <td>0.072 (0.201)</td>\n",
       "      <td>&lt;0.001</td>\n",
       "    </tr>\n",
       "  </tbody>\n",
       "</table>\n",
       "</div><br />"
      ],
      "text/plain": [
       "                    Grouped by dataset                       \n",
       "                              Ruptured Test(in-house) P-Value\n",
       "n                                  131           3480        \n",
       "entropy, mean (SD)       0.371 (0.318)  0.072 (0.201)  <0.001"
      ]
     },
     "execution_count": 13,
     "metadata": {},
     "output_type": "execute_result"
    }
   ],
   "source": [
    "TableOne(entropy.loc[entropy[\"dataset\"].isin({\"Test(in-house)\", \"Ruptured\"})], missing=False, pval=True, groupby=\"dataset\", overall=False, decimals=3)"
   ]
  },
  {
   "cell_type": "code",
   "execution_count": 14,
   "metadata": {},
   "outputs": [
    {
     "data": {
      "text/html": [
       "<div>\n",
       "<style scoped>\n",
       "    .dataframe tbody tr th:only-of-type {\n",
       "        vertical-align: middle;\n",
       "    }\n",
       "\n",
       "    .dataframe tbody tr th {\n",
       "        vertical-align: top;\n",
       "    }\n",
       "\n",
       "    .dataframe thead tr th {\n",
       "        text-align: left;\n",
       "    }\n",
       "</style>\n",
       "<table border=\"1\" class=\"dataframe\">\n",
       "  <thead>\n",
       "    <tr>\n",
       "      <th></th>\n",
       "      <th></th>\n",
       "      <th colspan=\"3\" halign=\"left\">Grouped by dataset</th>\n",
       "    </tr>\n",
       "    <tr>\n",
       "      <th></th>\n",
       "      <th></th>\n",
       "      <th>Normal</th>\n",
       "      <th>Ruptured</th>\n",
       "      <th>P-Value</th>\n",
       "    </tr>\n",
       "  </thead>\n",
       "  <tbody>\n",
       "    <tr>\n",
       "      <th>n</th>\n",
       "      <th></th>\n",
       "      <td>338</td>\n",
       "      <td>131</td>\n",
       "      <td></td>\n",
       "    </tr>\n",
       "    <tr>\n",
       "      <th>entropy, mean (SD)</th>\n",
       "      <th></th>\n",
       "      <td>0.777 (0.199)</td>\n",
       "      <td>0.371 (0.318)</td>\n",
       "      <td>&lt;0.001</td>\n",
       "    </tr>\n",
       "  </tbody>\n",
       "</table>\n",
       "</div><br />"
      ],
      "text/plain": [
       "                    Grouped by dataset                       \n",
       "                                Normal       Ruptured P-Value\n",
       "n                                  338            131        \n",
       "entropy, mean (SD)       0.777 (0.199)  0.371 (0.318)  <0.001"
      ]
     },
     "execution_count": 14,
     "metadata": {},
     "output_type": "execute_result"
    }
   ],
   "source": [
    "TableOne(entropy.loc[entropy[\"dataset\"].isin({\"Ruptured\", \"Normal\"})], missing=False, pval=True, groupby=\"dataset\", overall=False, decimals=3) "
   ]
  }
 ],
 "metadata": {
  "kernelspec": {
   "display_name": "Python 3 (ipykernel)",
   "language": "python",
   "name": "python3"
  },
  "language_info": {
   "codemirror_mode": {
    "name": "ipython",
    "version": 3
   },
   "file_extension": ".py",
   "mimetype": "text/x-python",
   "name": "python",
   "nbconvert_exporter": "python",
   "pygments_lexer": "ipython3",
   "version": "3.8.18"
  }
 },
 "nbformat": 4,
 "nbformat_minor": 4
}
