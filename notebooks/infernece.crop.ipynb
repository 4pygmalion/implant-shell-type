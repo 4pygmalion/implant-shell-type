{
 "cells": [
  {
   "cell_type": "code",
   "execution_count": null,
   "metadata": {},
   "outputs": [],
   "source": [
    "import os\n",
    "import sys\n",
    "import glob\n",
    "sys.path.append(os.path.dirname(os.getcwd()))\n",
    "\n",
    "import torch\n",
    "import numpy as np\n",
    "from torchvision.transforms import transforms\n",
    "from efficientnet_pytorch import EfficientNet\n",
    "\n",
    "from core.dataset import ImageDataset"
   ]
  },
  {
   "cell_type": "code",
   "execution_count": null,
   "metadata": {},
   "outputs": [],
   "source": [
    "transform = transforms.Compose([\n",
    "    transforms.Resize((512, 512)),\n",
    "    transforms.ToTensor(),\n",
    "    transforms.Normalize(mean=[0.485, 0.456, 0.406], std=[0.229, 0.224, 0.225]),\n",
    "])\n",
    "model = EfficientNet.from_pretrained(\n",
    "    \"efficientnet-b3\", num_classes=1, image_size=512\n",
    ")\n",
    "dd_model = torch.nn.DataParallel(model).to(\"cuda:3\")\n",
    "dd_model.load_state_dict(torch.load(\"../data/checkpoints/efficient_net_best_weight.pt\"))\n",
    "_ = model.eval()"
   ]
  },
  {
   "cell_type": "code",
   "execution_count": null,
   "metadata": {},
   "outputs": [],
   "source": [
    "from core.evaluation import forward, plot_confusion_matrix\n",
    "from core.evaluation import save_gradcam_by_dataset\n",
    "from matplotlib import pyplot as plt \n",
    "from core.dataset import ElasticDistDataset\n",
    "from core.transform import crop_usimage\n",
    "\n",
    "\n",
    "\n",
    "ALL_DATASET = \"/home/oem/repositories/BreastImplantRupture/data/test_rupture\"\n",
    "for camera in os.listdir(\"/home/oem/repositories/BreastImplantRupture/data/test_rupture\"):  \n",
    "    \n",
    "    print(camera)       \n",
    "    subtest_dir = os.path.join(ALL_DATASET, camera)\n",
    "    test_normal_paths = glob.glob(os.path.join(subtest_dir, \"normal/*.jpg\"))\n",
    "    test_rupture_paths = glob.glob(os.path.join(subtest_dir, \"rupture/*.jpg\"))\n",
    "\n",
    "    test_dataset = ElasticDistDataset(\n",
    "        test_rupture_paths + test_normal_paths,\n",
    "        transform=transform,\n",
    "        label_hint=\"/rupture/\",\n",
    "        crop=crop_usimage,\n",
    "        distortion=None,\n",
    "        device=\"cuda:3\",\n",
    "    )\n",
    "    y_trues, y_probs = forward(model, test_dataset, return_probs=True)\n",
    "    y_preds = y_probs >= 0.5\n",
    "    plot_confusion_matrix(y_trues, y_preds, label_names=[\"Normal\", \"Rupture\"])\n",
    "    \n",
    "    save_dir = os.path.join(\"performance.cv_crop\", camera)\n",
    "    os.makedirs(save_dir, exist_ok=True)\n",
    "    plt.savefig(os.path.join(save_dir, \"Performance.png\"))\n",
    "    plt.clf()\n",
    "    \n",
    "        \n",
    "    save_gradcam_by_dataset(model, test_rupture_paths + test_normal_paths, test_dataset, crop=crop_usimage, save_dir=save_dir)"
   ]
  }
 ],
 "metadata": {
  "kernelspec": {
   "display_name": "breast",
   "language": "python",
   "name": "python3"
  },
  "language_info": {
   "codemirror_mode": {
    "name": "ipython",
    "version": 3
   },
   "file_extension": ".py",
   "mimetype": "text/x-python",
   "name": "python",
   "nbconvert_exporter": "python",
   "pygments_lexer": "ipython3",
   "version": "3.8.17"
  }
 },
 "nbformat": 4,
 "nbformat_minor": 2
}
